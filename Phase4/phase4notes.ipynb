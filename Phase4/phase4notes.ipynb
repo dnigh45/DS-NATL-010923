{
 "cells": [
  {
   "attachments": {},
   "cell_type": "markdown",
   "metadata": {},
   "source": [
    "# ARMA and its Subvariants\n",
    "Parameters will intake statistical parameters and give out coefficients \\\n",
    "AR - Autoregressive moving average \\\n",
    "AR-1 model - The best prediction of today was what it was yesterday \\\n",
    "Autoregressive(p) previous y value \\\n",
    "Moving avg (q) - looks at how wrong you were yesterday \\\n",
    "Lags = amount of time unit that you move back \\\n",
    "Combo of AR and Moving Average (MA) components into a model \\\n",
    "Get out a p-value (will tell you if moving back x number of lags is good for predicting current lag) \\\n",
    "ARIMA - d stands for ___ but does differencing, usually just need this value to be 1 \\\n",
    "Don't have to difference before ARIMA, bc ARIMA will take care of this \\\n",
    "All of these models can be weighted, e.g. looking at 1 day back is more important than 2 days ago \\\n",
    "Long term memory models -- ways to store history, know that it may repeat itself later \\\n",
    "Will have to weight it less bc it will be less likely than something in the nearer past \\\n",
    "Model puts that into one equation and weights the previous values iteratively less \\\n",
    "MA models will use the error instead of the previous value \\\n",
    "These are short memory model \\\n",
    "Error should decrease over time and eventually dissipate \\\n",
    "Aric LaBarr is the dude that we are watching on YouTube \\\n"
   ]
  }
 ],
 "metadata": {
  "language_info": {
   "name": "python"
  },
  "orig_nbformat": 4
 },
 "nbformat": 4,
 "nbformat_minor": 2
}
